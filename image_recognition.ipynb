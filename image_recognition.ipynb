{
 "cells": [
  {
   "cell_type": "code",
   "execution_count": 15,
   "metadata": {},
   "outputs": [
    {
     "name": "stdout",
     "output_type": "stream",
     "text": [
      "Top-5 Predictions:\n",
      "1. 285: 'Egyptian cat', (55.46%)\n",
      "2. 282: 'tiger cat', (12.03%)\n",
      "3. 281: 'tabby, tabby cat', (11.34%)\n",
      "4. 287: 'lynx, catamount', (3.64%)\n",
      "5. 283: 'Persian cat', (3.27%)\n",
      "Top-5 Predictions:\n",
      "1. 209: 'Chesapeake Bay retriever', (93.90%)\n",
      "2. 208: 'Labrador retriever', (1.00%)\n",
      "3. 180: 'American Staffordshire terrier, Staffordshire terrier, American pit bull terrier, pit bull terrier', (0.86%)\n",
      "4. 178: 'Weimaraner', (0.76%)\n",
      "5. 206: 'curly-coated retriever', (0.70%)\n"
     ]
    }
   ],
   "source": [
    "import os\n",
    "import torch\n",
    "from PIL import Image\n",
    "import timm\n",
    "from torchvision import transforms\n",
    "import glob\n",
    "\n",
    "# 画像の前処理: リサイズ、テンソル変換、正規化\n",
    "transform = transforms.Compose([\n",
    "    transforms.Resize((224, 224)),\n",
    "    transforms.ToTensor(),\n",
    "    transforms.Normalize(mean=[0.485, 0.456, 0.406], std=[0.229, 0.224, 0.225]),\n",
    "])\n",
    "\n",
    "# 学習済みモデルのロード: ViT モデルを事前学習済みの重みで初期化\n",
    "model = timm.create_model(\"vit_base_patch16_224\", pretrained=True)\n",
    "# M1/M2 macのGPUを利用する設定\n",
    "mps_device = torch.device(\"mps\")\n",
    "# 学習済みモデルをGPUに配置\n",
    "model.to(mps_device)\n",
    "# モデルを（評価）推論モードに設定\n",
    "model.eval()\n",
    "\n",
    "# 推論（今回は画像認識）対象となる画像の設定（dataディレクトリの中にあるすべての画像を対象にする）\n",
    "image_paths = glob.glob(\"data/*.jpg\")\n",
    "\n",
    "# クラスラベルを読み込む: image_classes.txt からクラスラベルのリストを作成\n",
    "with open('image_classes.txt', 'r') as f:\n",
    "    class_labels = [line.strip() for line in f.readlines()]\n",
    "\n",
    "# dataディレクトリに格納された各画像に対して推論を実行\n",
    "for image_path in image_paths:\n",
    "    # 画像を読み込み、RGB に変換\n",
    "    image = Image.open(image_path).convert(\"RGB\")\n",
    "    # モデルに入力できる形（テンソル）に変換\n",
    "    image_tensor = transform(image).unsqueeze(0).to(mps_device)\n",
    "    \n",
    "    with torch.no_grad():\n",
    "        output = model(image_tensor)\n",
    "        probabilities = torch.nn.functional.softmax(output, dim=1)\n",
    "\n",
    "    # 結果を表示: 認識結果の確率トップ5を表示\n",
    "    topk_probs, topk_indices = torch.topk(probabilities, k=5)\n",
    "    topk_probs = topk_probs.squeeze().tolist()\n",
    "    topk_indices = topk_indices.squeeze().tolist()\n",
    "    print(\"Top-5 Predictions:\")\n",
    "    for i in range(len(topk_probs)):\n",
    "        class_name = class_labels[topk_indices[i]]\n",
    "        prob = topk_probs[i] * 100\n",
    "        print(f\"{i+1}. {class_name} ({prob:.2f}%)\")\n"
   ]
  },
  {
   "cell_type": "code",
   "execution_count": null,
   "metadata": {},
   "outputs": [],
   "source": []
  }
 ],
 "metadata": {
  "kernelspec": {
   "display_name": "PyTorchGPU",
   "language": "python",
   "name": "python3"
  },
  "language_info": {
   "codemirror_mode": {
    "name": "ipython",
    "version": 3
   },
   "file_extension": ".py",
   "mimetype": "text/x-python",
   "name": "python",
   "nbconvert_exporter": "python",
   "pygments_lexer": "ipython3",
   "version": "3.10.6"
  },
  "orig_nbformat": 4
 },
 "nbformat": 4,
 "nbformat_minor": 2
}
